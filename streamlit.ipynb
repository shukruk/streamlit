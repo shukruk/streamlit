{
 "cells": [
  {
   "cell_type": "markdown",
   "id": "f5decfd8-9e97-49b3-8c5c-a4bf532ae1a5",
   "metadata": {},
   "source": [
    "* **\"%%writefile app.py\"**    bu ifadenin en başda yazılı olduğu blokta ki kodları py uzantılı bir dosyaya kaydetmesini sağlıyoruz ki bu da streamlit için gerekli olan .py uzantılı dosya şartını sağlıyor"
   ]
  },
  {
   "cell_type": "code",
   "execution_count": 1,
   "id": "12362a4e-fa61-448d-a775-ea8a6326457a",
   "metadata": {},
   "outputs": [
    {
     "name": "stdout",
     "output_type": "stream",
     "text": [
      "Overwriting app.py\n"
     ]
    }
   ],
   "source": [
    "%%writefile app.py\n",
    "import streamlit as st\n",
    "import pandas as pd\n",
    "import numpy as np\n",
    "import matplotlib.pyplot as plt\n",
    "import seaborn as sns\n",
    "\n",
    "# Sample data for bar chart\n",
    "bar_data = {\n",
    "    'Category': ['A', 'B', 'C', 'D', 'E'],\n",
    "    'Values': [25, 40, 10, 30, 15]\n",
    "}\n",
    "\n",
    "st.title(\"Simple Data Visualization\")\n",
    "\n",
    "# Bar Chart\n",
    "st.subheader(\"Bar Chart Example\")  # 1. grafik\n",
    "bar_df = pd.DataFrame(bar_data)\n",
    "st.bar_chart(bar_df.set_index('Category'))\n",
    "\n",
    "# Line Chart\n",
    "st.subheader(\"Line Chart Example\")  # 2. grafik\n",
    "\n",
    "# Slider for X values\n",
    "x_min = 0\n",
    "x_max = 200\n",
    "x_value = st.slider(\"Select a range for X values:\", x_min, x_max, (0, 100))\n",
    "\n",
    "# Generate data for the selected range\n",
    "x = np.linspace(x_value[0], x_value[1], 100)\n",
    "y = np.sin(x)\n",
    "\n",
    "# Create a DataFrame for the line chart\n",
    "line_df = pd.DataFrame({'x': x, 'y': y}).set_index('x')\n",
    "\n",
    "# Display the line chart\n",
    "st.line_chart(line_df)"
   ]
  },
  {
   "cell_type": "code",
   "execution_count": null,
   "id": "c4c30446-5c16-48eb-816a-031a0f9abe24",
   "metadata": {},
   "outputs": [],
   "source": [
    "# kodu kaydettiğimiz py uzantılı dosyayı çağırarak streamlit arayüzünde çalışmasını sağlıyoruz \n",
    "\n",
    "!streamlit run app.py"
   ]
  },
  {
   "cell_type": "code",
   "execution_count": null,
   "id": "862ecca3-b5c7-40d6-b80c-fab7e939d39b",
   "metadata": {},
   "outputs": [],
   "source": []
  }
 ],
 "metadata": {
  "kernelspec": {
   "display_name": "Python 3 (ipykernel)",
   "language": "python",
   "name": "python3"
  },
  "language_info": {
   "codemirror_mode": {
    "name": "ipython",
    "version": 3
   },
   "file_extension": ".py",
   "mimetype": "text/x-python",
   "name": "python",
   "nbconvert_exporter": "python",
   "pygments_lexer": "ipython3",
   "version": "3.9.13"
  }
 },
 "nbformat": 4,
 "nbformat_minor": 5
}
